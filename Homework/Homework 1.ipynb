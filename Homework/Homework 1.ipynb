{
 "cells": [
  {
   "cell_type": "markdown",
   "metadata": {},
   "source": [
    "Name - Shubham Mahesh Chaudhary\n",
    "ASU ID - 1219648911\n",
    "MAE598 - Design Optimization Homework 1"
   ]
  },
  {
   "cell_type": "markdown",
   "metadata": {
    "collapsed": true,
    "pycharm": {
     "name": "#%% md\n"
    }
   },
   "source": [
    "Solve the following problem using [Python SciPy.optimize][]. Please attach your code and\n",
    "results. Specify your initial guesses of the solution. If you change\n",
    "your initial guess, do you find different solutions? (**100 points**)\n",
    "\n",
    "$$\n",
    "\\begin{aligned}\n",
    "&\\text{minimize:} && (x_1-x_2)^2 + (x_2+x_3-2)^2 + (x_4-1)^2+(x_5-1)^2 \\\\\\\\\n",
    "&\\text{subject to:} && x_1 + 3x_2 = 0 \\\\\\\\\n",
    "&&& x_3 + x_4 - 2x_5 = 0 \\\\\\\\\n",
    "&&& x_2 - x_5 = 0 \\\\\\\\\n",
    "&&& -10 \\leq x_i \\leq 10, \\~i=1,\\ldots,5\n",
    "\\end{aligned}$$\n",
    "\n",
    "**Note**:\n",
    "\n",
    "1.  Please learn how to use **break points** to debug. **I will not\n",
    "    address your programming questions if you have not learned how to\n",
    "    debug your code.**\n",
    "\n",
    "2.  I recommend [PyCharm][] as the IDE. If you are new to Python, you can also start with [Google Colab][] without installing anything.\n",
    "    \n",
    "3.  If you are on Windows, the [Anaconda][] version of Python 3 is highly recommended.\n",
    "\n",
    "\n",
    "**Here are the steps to push a homework submission**:\n",
    "\n",
    "1.  Clone the [course repo][]: First click on **Code** to get the\n",
    " Git address (e.g., the HTTPS address). Then use your IDE to clone (download) the repo using this address. \n",
    " [PyCharm tutorial][] on using Git.\n",
    "\n",
    "2.  You will find the homework in the **Homework** folder.\n",
    "\n",
    "3.  For analytical problems (e.g., proofs and calculations), please use [Markdown][] to type up your answers. \n",
    "[Markdown Math][]. For Latex users, you can convert tex to markdown using [Pandoc][]. \n",
    "\n",
    "4. For coding problems, please submit a [Jupyter Notebook][] file with your code and final results. \n",
    "You can also add a URL to your Jupyter or Colab Notebook in README.md if you use online notebooks.\n",
    "\n",
    "5. For each homework, please submit a single notebook file (or link) that combines the markdown solutions, \n",
    "the codes, and the computation results, and name the file according to the homework.  \n",
    "\n",
    "6. **IMPORTANT** Please push (upload) the notebook file every time you work on the \n",
    "homework and add comments when you push, e.g., \"finished problem 1, still debugging problem 2\". This way I \n",
    "know you worked on your own.\n",
    " \n",
    "\n",
    "[Python SciPy.optimize]: https://docs.scipy.org/doc/scipy/reference/tutorial/optimize.html#\n",
    "[PyCharm]: https://www.jetbrains.com/pycharm/promo/?utm_source=bing&utm_medium=cpc&utm_campaign=AMER_en_US-PST%2BMST_PyCharm_Branded&utm_term=pycharm&utm_content=pycharm\n",
    "[Google Colab]: https://colab.research.google.com\n",
    "[Anaconda]: https://anaconda.org/anaconda/python\n",
    "[course repo]: https://github.com/DesignInformaticsLab/DesignOptimization2021Fall\n",
    "[PyCharm tutorial]: https://www.jetbrains.com/help/pycharm/set-up-a-git-repository.html#clone-repo\n",
    "[Pandoc]: https://pandoc.org/try/\n",
    "[Jupyter Notebook]: https://jupyter.org/try\n",
    "[Markdown]: https://guides.github.com/features/mastering-markdown/\n",
    "[Markdown Math]: http://luvxuan.top/posts/Markdown-math/"
   ]
  },
  {
   "cell_type": "markdown",
   "metadata": {},
   "source": [
    "The initial guesses were x1 = x2 = x3 = x4 = x5 = 3. Other initial guesses were x1 = x2 = x3 = x4 = x5 = 4,  x1 = x2 = x3 = x4 = x5 = 5 and x1 = x2 = x3 = x4 = x5 = 6. Very small differences in the solution were found, the difference in the solutions is very small and the order is 10^-8 and this can be accounted to the algorithm being terminated with some error even then the errors are very small and close to 0. "
   ]
  },
  {
   "cell_type": "code",
   "execution_count": 38,
   "metadata": {},
   "outputs": [],
   "source": [
    "from scipy.optimize import minimize\n",
    "#Define Objective Function\n",
    "function = lambda x:(x[0] - x[1]) * (x[0] - x[1]) + (x[1] + x[2] - 2) * (x[1] + x[2] - 2) + (x[3] -1) * (x[3] -1) + (x[4] -1) * (x[4] -1)\n",
    "#Define the constraints\n",
    "constraint = ({'type': 'eq', 'fun': lambda x: x[0] + x[1] * 3},\n",
    "              {'type': 'eq', 'fun': lambda x: x[2] + x[3] - x[4] * 2},\n",
    "              {'type': 'eq', 'fun': lambda x: x[1] - x[4]})\n",
    "\n",
    "bound = ((-10,10), (-10,10), (-10,10), (-10,10), (-10,10))\n",
    "#Define Initial guess\n",
    "xi = [3,3,3,3,3]\n",
    "#Use minimize() from scipy.optimize to find the result\n",
    "result = minimize(function, xi, bounds = bound, constraints = constraint)"
   ]
  },
  {
   "cell_type": "code",
   "execution_count": 39,
   "metadata": {},
   "outputs": [
    {
     "data": {
      "text/plain": [
       "     fun: 4.093023262471799\n",
       "     jac: array([-2.04640752, -0.18611193, -2.23251945, -2.23267484, -1.48839813])\n",
       " message: 'Optimization terminated successfully'\n",
       "    nfev: 43\n",
       "     nit: 7\n",
       "    njev: 7\n",
       "  status: 0\n",
       " success: True\n",
       "       x: array([-0.76740282,  0.25580094,  0.62793931, -0.11633743,  0.25580094])"
      ]
     },
     "execution_count": 39,
     "metadata": {},
     "output_type": "execute_result"
    }
   ],
   "source": [
    "result"
   ]
  },
  {
   "cell_type": "code",
   "execution_count": 40,
   "metadata": {},
   "outputs": [],
   "source": [
    "from scipy.optimize import minimize\n",
    "#Define Objective Function\n",
    "function = lambda x:(x[0] - x[1]) * (x[0] - x[1]) + (x[1] + x[2] - 2) * (x[1] + x[2] - 2) + (x[3] -1) * (x[3] -1) + (x[4] -1) * (x[4] -1)\n",
    "#Define the constraints\n",
    "constraint = ({'type': 'eq', 'fun': lambda x: x[0] + x[1] * 3},\n",
    "              {'type': 'eq', 'fun': lambda x: x[2] + x[3] - x[4] * 2},\n",
    "              {'type': 'eq', 'fun': lambda x: x[1] - x[4]})\n",
    "bound = ((-10,10), (-10,10), (-10,10), (-10,10), (-10,10))\n",
    "#Define Initial guess\n",
    "xi = [4,4,4,4,4]\n",
    "#Use minimize() from scipy.optimize to find the result\n",
    "result = minimize(function, xi, bounds = bound, constraints = constraint)"
   ]
  },
  {
   "cell_type": "code",
   "execution_count": 41,
   "metadata": {},
   "outputs": [
    {
     "data": {
      "text/plain": [
       "     fun: 4.09302326142826\n",
       "     jac: array([-2.04642099, -0.1860956 , -2.23251659, -2.23266768, -1.48839474])\n",
       " message: 'Optimization terminated successfully'\n",
       "    nfev: 43\n",
       "     nit: 7\n",
       "    njev: 7\n",
       "  status: 0\n",
       " success: True\n",
       "       x: array([-0.76740786,  0.25580262,  0.62793908, -0.11633384,  0.25580262])"
      ]
     },
     "execution_count": 41,
     "metadata": {},
     "output_type": "execute_result"
    }
   ],
   "source": [
    "result"
   ]
  },
  {
   "cell_type": "code",
   "execution_count": 42,
   "metadata": {},
   "outputs": [],
   "source": [
    "from scipy.optimize import minimize\n",
    "#Define Objective Function\n",
    "function = lambda x:(x[0] - x[1]) * (x[0] - x[1]) + (x[1] + x[2] - 2) * (x[1] + x[2] - 2) + (x[3] -1) * (x[3] -1) + (x[4] -1) * (x[4] -1)\n",
    "#Define the constraints\n",
    "constraint = ({'type': 'eq', 'fun': lambda x: x[0] + x[1] * 3},\n",
    "              {'type': 'eq', 'fun': lambda x: x[2] + x[3] - x[4] * 2},\n",
    "              {'type': 'eq', 'fun': lambda x: x[1] - x[4]})\n",
    "bound = ((-10,10), (-10,10), (-10,10), (-10,10), (-10,10))\n",
    "#Define Initial guess\n",
    "xi = [5,5,5,5,5]\n",
    "#Use minimize() from scipy.optimize to find the result\n",
    "result = minimize(function, xi, bounds = bound, constraints = constraint)"
   ]
  },
  {
   "cell_type": "code",
   "execution_count": 43,
   "metadata": {},
   "outputs": [
    {
     "data": {
      "text/plain": [
       "     fun: 4.093023261962343\n",
       "     jac: array([-2.0464195 , -0.18609196, -2.23251146, -2.23267394, -1.48839509])\n",
       " message: 'Optimization terminated successfully'\n",
       "    nfev: 43\n",
       "     nit: 7\n",
       "    njev: 7\n",
       "  status: 0\n",
       " success: True\n",
       "       x: array([-0.76740731,  0.25580244,  0.62794181, -0.11633694,  0.25580244])"
      ]
     },
     "execution_count": 43,
     "metadata": {},
     "output_type": "execute_result"
    }
   ],
   "source": [
    "result"
   ]
  },
  {
   "cell_type": "code",
   "execution_count": 44,
   "metadata": {},
   "outputs": [],
   "source": [
    "from scipy.optimize import minimize\n",
    "#Define Objective Function\n",
    "function = lambda x:(x[0] - x[1]) * (x[0] - x[1]) + (x[1] + x[2] - 2) * (x[1] + x[2] - 2) + (x[3] -1) * (x[3] -1) + (x[4] -1) * (x[4] -1)\n",
    "#Define the constraints\n",
    "constraint = ({'type': 'eq', 'fun': lambda x: x[0] + x[1] * 3},\n",
    "              {'type': 'eq', 'fun': lambda x: x[2] + x[3] - x[4] * 2},\n",
    "              {'type': 'eq', 'fun': lambda x: x[1] - x[4]})\n",
    "bound = ((-10,10), (-10,10), (-10,10), (-10,10), (-10,10))\n",
    "#Define Initial guess\n",
    "xi = [6,6,6,6,6]\n",
    "#Use minimize() from scipy.optimize to find the result\n",
    "result = minimize(function, xi, bounds = bound, constraints = constraint)"
   ]
  },
  {
   "cell_type": "code",
   "execution_count": 45,
   "metadata": {},
   "outputs": [
    {
     "data": {
      "text/plain": [
       "     fun: 4.093023387403783\n",
       "     jac: array([-2.0460332 , -0.18637359, -2.2324068 , -2.23306829, -1.48849165])\n",
       " message: 'Optimization terminated successfully'\n",
       "    nfev: 43\n",
       "     nit: 7\n",
       "    njev: 7\n",
       "  status: 0\n",
       " success: True\n",
       "       x: array([-0.76726244,  0.25575415,  0.62804243, -0.11653414,  0.25575415])"
      ]
     },
     "execution_count": 45,
     "metadata": {},
     "output_type": "execute_result"
    }
   ],
   "source": [
    "result"
   ]
  }
 ],
 "metadata": {
  "kernelspec": {
   "display_name": "Python 3",
   "language": "python",
   "name": "python3"
  },
  "language_info": {
   "codemirror_mode": {
    "name": "ipython",
    "version": 3
   },
   "file_extension": ".py",
   "mimetype": "text/x-python",
   "name": "python",
   "nbconvert_exporter": "python",
   "pygments_lexer": "ipython3",
   "version": "3.8.3"
  },
  "pycharm": {
   "stem_cell": {
    "cell_type": "raw",
    "metadata": {
     "collapsed": false
    },
    "source": []
   }
  }
 },
 "nbformat": 4,
 "nbformat_minor": 1
}
