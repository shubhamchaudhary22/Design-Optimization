{
 "cells": [
  {
   "cell_type": "markdown",
   "metadata": {},
   "source": [
    "### Problem 1 (50 points) \n",
    "\n",
    "Vapor-liquid equilibria data are correlated using two adjustable parameters $A_{12}$ and $A_{21}$ per binary\n",
    "mixture. For low pressures, the equilibrium relation can be formulated as:\n",
    "\n",
    "$$\n",
    "\\begin{aligned}\n",
    "p = & x_1\\exp\\left(A_{12}\\left(\\frac{A_{21}x_2}{A_{12}x_1+A_{21}x_2}\\right)^2\\right)p_{water}^{sat}\\\\\n",
    "& + x_2\\exp\\left(A_{21}\\left(\\frac{A_{12}x_1}{A_{12}x_1+A_{21}x_2}\\right)^2\\right)p_{1,4 dioxane}^{sat}.\n",
    "\\end{aligned}\n",
    "$$\n",
    "\n",
    "Here the saturation pressures are given by the Antoine equation\n",
    "\n",
    "$$\n",
    "\\log_{10}(p^{sat}) = a_1 - \\frac{a_2}{T + a_3},\n",
    "$$\n",
    "\n",
    "where $T = 20$($^{\\circ}{\\rm C}$) and $a_{1,2,3}$ for a water - 1,4 dioxane\n",
    "system is given below.\n",
    "\n",
    "|             | $a_1$     | $a_2$      | $a_3$     |\n",
    "|:------------|:--------|:---------|:--------|\n",
    "| Water       | 8.07131 | 1730.63  | 233.426 |\n",
    "| 1,4 dioxane | 7.43155 | 1554.679 | 240.337 |\n",
    "\n",
    "\n",
    "The following table lists the measured data. Recall that in a binary system $x_1 + x_2 = 1$.\n",
    "\n",
    "|$x_1$ | 0.0 | 0.1 | 0.2 | 0.3 | 0.4 | 0.5 | 0.6 | 0.7 | 0.8 | 0.9 | 1.0 |\n",
    "|:-----|:--------|:---------|:--------|:-----|:-----|:-----|:-----|:-----|:-----|:-----|:-----|\n",
    "|$p$| 28.1 | 34.4 | 36.7 | 36.9 | 36.8 | 36.7 | 36.5 | 35.4 | 32.9 | 27.7 | 17.5 |\n",
    "\n",
    "Estimate $A_{12}$ and $A_{21}$ using data from the above table: \n",
    "\n",
    "1. Formulate the least square problem; \n",
    "2. Since the model is nonlinear, the problem does not have an analytical solution. Therefore, solve it using the gradient descent or Newton's method implemented in HW1; \n",
    "3. Compare your optimized model with the data. Does your model fit well with the data?\n",
    "\n",
    "---\n",
    "\n",
    "### Problem 2 (50 points) \n",
    "\n",
    "Solve the following problem using Bayesian Optimization:\n",
    "$$\n",
    "    \\min_{x_1, x_2} \\quad \\left(4-2.1x_1^2 + \\frac{x_1^4}{3}\\right)x_1^2 + x_1x_2 + \\left(-4 + 4x_2^2\\right)x_2^2,\n",
    "$$\n",
    "for $x_1 \\in [-3,3]$ and $x_2 \\in [-2,2]$. A tutorial on Bayesian Optimization can be found [here](https://thuijskens.github.io/2016/12/29/bayesian-optimisation/).\n",
    "\n",
    "\n",
    "\n"
   ]
  },
  {
   "cell_type": "code",
   "execution_count": 114,
   "metadata": {},
   "outputs": [
    {
     "name": "stdout",
     "output_type": "stream",
     "text": [
      "The value of A12 is  1.734258 and A21 is 1.6921307\n",
      "0.00071549066\n"
     ]
    },
    {
     "data": {
      "text/plain": [
       "<matplotlib.legend.Legend at 0x209fbce32e0>"
      ]
     },
     "execution_count": 114,
     "metadata": {},
     "output_type": "execute_result"
    },
    {
     "data": {
      "image/png": "[encoded data removed]",
      "text/plain": [
       "<Figure size 432x288 with 1 Axes>"
      ]
     },
     "metadata": {
      "needs_background": "light"
     },
     "output_type": "display_data"
    }
   ],
   "source": [
    "# Problem 1\n",
    "import torch as t\n",
    "from torch.autograd import Variable\n",
    "import numpy as np\n",
    "import math\n",
    "import matplotlib.pyplot as plt\n",
    "#Defining saturation pressure given by the Antoine equation\n",
    "def psaturation(a):\n",
    "    psat = a[0]\n",
    "    psat -= a[1]/(20+a[2])\n",
    "    psat = pow(10,psat)\n",
    "    return psat\n",
    "def lossfn(x,x1,x2,pw, p14d):\n",
    "    loss = x1 * t.exp(x[0]*pow((x[1]*x2)/(x[0]*x1+x[1]*x2),2))*pw \n",
    "    loss+= x2 * t.exp(x[1]*pow((x[0]*x1)/(x[0]*x1+x[1]*x2), 2))*p14d\n",
    "    return loss\n",
    "#Defining a1,a2 & a3 for water \n",
    "aw = np.array([8.07131, 1730.63, 233.426])\n",
    "#Defining a1,a2 & a3 for 1,4 dioxane system \n",
    "a14d = np.array([7.43155, 1554.679, 240.337])\n",
    "pressure = np.array([28.1, 34.4, 36.7, 36.9, 36.8, 36.7, 36.5, 35.4, 32.9, 27.7, 17.5])\n",
    "#Defining x1 \n",
    "x1 = np.array([0, 0.1, 0.2, 0.3, 0.4, 0.5, 0.6, 0.7, 0.8, 0.9, 1])\n",
    "#Defining x2 \n",
    "x2 = np.array([1, 0.9, 0.8, 0.7, 0.6, 0.5, 0.4, 0.3, 0.2, 0.1, 0])\n",
    "pw = psaturation(aw)\n",
    "p14d = psaturation(a14d)\n",
    "x = Variable(t.tensor([1.5, 1.5]), requires_grad=True)\n",
    "\n",
    "# Fix the step size\n",
    "a = 0.001\n",
    "num = 0;\n",
    "\n",
    "# Start gradient descent\n",
    "for i in range(100):  \n",
    "    while num <= 10:\n",
    "        loss = pow((lossfn(x, x1[num], x2[num],pw, p14d) - pressure[num]),2)\n",
    "        loss.backward()\n",
    "        num = num+1\n",
    "    #x.grad.numpy()\n",
    "    \n",
    "    # no_grad() specifies that the operations within this context are not part of the computational graph, i.e., we don't need the gradient descent algorithm itself to be differentiable with respect to x\n",
    "    with t.no_grad():\n",
    "        x -= a * x.grad\n",
    "        # need to clear the gradient at every step, or otherwise it will accumulate...\n",
    "        x.grad.zero_()\n",
    "A = x.data.numpy()       \n",
    "print(\"The value of A12 is \", A[0], \"and A21 is\", A[1])\n",
    "print(loss.data.numpy())\n",
    "\n",
    "pcalc = []\n",
    "num = 0\n",
    "#calculating the values of p from estimated A12 and A21\n",
    "while num <= 10:\n",
    "    pcal = lossfn(x, x1[num], x2[num],pw, p14d)\n",
    "    pcalc.append(pcal.data.numpy())\n",
    "    num = num + 1 \n",
    "#Plot both the data to compare the optimized model with the measured data\n",
    "plt.plot(x1, pcalc,'gx',x1, pressure)\n",
    "plt.legend(['Model Data','Measured data'])"
   ]
  },
  {
   "cell_type": "markdown",
   "metadata": {},
   "source": [
    "The graph above compares the optimized model with the measured data"
   ]
  },
  {
   "cell_type": "code",
   "execution_count": 103,
   "metadata": {},
   "outputs": [
    {
     "name": "stdout",
     "output_type": "stream",
     "text": [
      "At minimum point, x1 is 0.2127679016277324 and x2 is -0.7555763160290453\n",
      "minimum value of given function is -0.9638497323196777\n"
     ]
    }
   ],
   "source": [
    "#Problem 2\n",
    "import numpy as np \n",
    "from gp import*\n",
    "#Defining the loss Function\n",
    "def loss(x):\n",
    "    x = -((4-2.1*pow(x[0],2)+pow(x[0],4)/3)*pow(x[0],2) + x[0]*x[1] + (4*pow(x[1],2) - 4)*pow(x[1],2))\n",
    "    return x\n",
    "#Defining the number of iterations\n",
    "iterations = 10\n",
    "#Defining the boundaries of x1 & x2\n",
    "bounds = np.array([[-3, 3], [-2, 2]])\n",
    "#Using Bayesian Optimization\n",
    "x, y = bayesian_optimisation(iterations, loss, bounds)\n",
    "print(\"At minimum point, x1 is\", x[len(x1) -1][0], \"and x2 is\",x[len(x1) -1][1])\n",
    "#Multiplying by -1 as we mutiplied by -1 in loss function\n",
    "print(\"minimum value of given function is\", -y[len(x1) -1])"
   ]
  }
 ],
 "metadata": {
  "kernelspec": {
   "display_name": "Python 3",
   "language": "python",
   "name": "python3"
  },
  "language_info": {
   "codemirror_mode": {
    "name": "ipython",
    "version": 3
   },
   "file_extension": ".py",
   "mimetype": "text/x-python",
   "name": "python",
   "nbconvert_exporter": "python",
   "pygments_lexer": "ipython3",
   "version": "3.8.3"
  }
 },
 "nbformat": 4,
 "nbformat_minor": 5
}
